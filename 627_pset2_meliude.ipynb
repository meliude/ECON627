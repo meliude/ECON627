{
 "cells": [
  {
   "cell_type": "markdown",
   "metadata": {},
   "source": [
    "<h3 style=\"text-align: center;\">Monte Carlo (MC) Simulations for 2SLS and two-step efficient GMM</h3>\n",
    "<h4 style=\"text-align: center;\">Maria Santos</h4>"
   ]
  },
  {
   "cell_type": "code",
   "execution_count": 1,
   "metadata": {},
   "outputs": [],
   "source": [
    "# packages\n",
    "using Distributions\n",
    "using LinearAlgebra\n",
    "using PrettyTables\n",
    "using Parameters\n",
    "using Statistics\n",
    "using Random "
   ]
  },
  {
   "cell_type": "markdown",
   "metadata": {},
   "source": [
    "a) Generate $n=500$ observations for $(Y_i, X_i, Z_i)$ from the following IV regression model with heteroskedastic errors:\n",
    "\n",
    "$$Y_i=\\beta X_i + U_i$$\n",
    "$$X_i=\\beta \\pi' Z_i + V_i$$\n",
    "$$U_i=\\beta e^{\\gamma' Z_i} \\times \\varepsilon_i$$\n",
    "\n",
    "where $Z_i \\sim N(0, I_2)$ and is independent of $\\varepsilon_i$ and $V_i$, and\n",
    "\n",
    "$$\\left( \\begin{array}{c}  \\epsilon_i \\\\ V_i \\end{array} \\right)  \\sim N\\left( \\left( \\begin{array}{c}  0 \\\\ 0 \\end{array} \\right), \\left( \\begin{array}{c}  1 & \\rho\\\\ \\rho & 1 \\end{array} \\right) \\right).$$\n",
    "\n",
    "Use the following values of the parameters:\n",
    "\n",
    "$\\beta = 1$, $\\pi = \\gamma =  \\left( \\begin{array}{c}  1 \\\\ 1 \\end{array} \\right)$, and  $\\rho =0.95$."
   ]
  },
  {
   "cell_type": "code",
   "execution_count": 2,
   "metadata": {},
   "outputs": [],
   "source": [
    "function generate_observations(true_β, π, γ, ρ, n, seed)\n",
    "    Random.seed!(seed)  # Set seed for reproducibility\n",
    "    \n",
    "    # Generate Z_i from a multivariate normal distribution with mean 0 and variance I_2\n",
    "    Z = randn(n, 2)\n",
    "    \n",
    "    # Generate ε_i and V_i from a multivariate normal distribution\n",
    "    Σ = [1 ρ; ρ 1]  # Covariance matrix for ε_i and V_i\n",
    "    mvnormal = MvNormal([0.0; 0.0], Σ)\n",
    "    #errors = randn(n, 2) * cholesky(Σ).U  # Generate correlated errors\n",
    "    errors = rand(mvnormal, n)'  # Generate correlated errors\n",
    "\n",
    "    # Calculate U_i using the provided equation\n",
    "    #U = [exp.(dot(row, transpose(γ))) for row in eachrow(Z)] .* errors[:, 1]\n",
    "    U = exp.(Z * γ) .* errors[:, 1]\n",
    "\n",
    "    # Calculate X_i using the provided equation\n",
    "    V = errors[:, 2]\n",
    "    #X = [dot(row, transpose(π)) for row in eachrow(Z)] + V\n",
    "    X = Z * π + V\n",
    "\n",
    "    # Calculate Y_i using the provided equation\n",
    "    Y = β * X + U\n",
    "    \n",
    "    return Y, X, Z\n",
    "end;\n"
   ]
  },
  {
   "cell_type": "code",
   "execution_count": 3,
   "metadata": {},
   "outputs": [],
   "source": [
    "β = 1\n",
    "π = [1;1]\n",
    "γ = [1;1]\n",
    "ρ = 0.95\n",
    "n = 500\n",
    "seed = 1995;  # Seed for reproducibility"
   ]
  },
  {
   "cell_type": "code",
   "execution_count": 4,
   "metadata": {},
   "outputs": [],
   "source": [
    "Y,X,Z = generate_observations(β, π, γ, ρ, n, seed);"
   ]
  },
  {
   "cell_type": "markdown",
   "metadata": {},
   "source": [
    "b) Compute $\\hat{\\beta}^{2SLS}$, the 2SLS estimator, and its standard error."
   ]
  },
  {
   "cell_type": "code",
   "execution_count": null,
   "metadata": {},
   "outputs": [],
   "source": [
    "\"\"\"\n",
    "function ordinary_least_squares(X, y)\n",
    "    n = length(y)\n",
    "    beta_hat = (X' * X) \\ (X' * y)\n",
    "    y_pred = X * beta_hat\n",
    "    \n",
    "    if isa(X' * X, Matrix) == false\n",
    "        se = sqrt(X' * X)\n",
    "    else\n",
    "        se = sqrt.(diag(X' * X))\n",
    "    end\n",
    "    \n",
    "    return beta_hat, se, y_pred\n",
    "end;\n",
    "\"\"\"\n"
   ]
  },
  {
   "cell_type": "code",
   "execution_count": 5,
   "metadata": {},
   "outputs": [],
   "source": [
    "function two_stage_least_squares(y, X, Z)\n",
    "    # define the number of observations\n",
    "    n = length(y)\n",
    "\n",
    "    # define the projection matrix\n",
    "    P_z = Z * inv(Z' * Z) * Z'\n",
    "    P_z_x = P_z * X\n",
    "\n",
    "    # estimate the 2SLS estimator using the projection matrix\n",
    "    β_hat = (P_z_x' * P_z_x) \\ (P_z_x' * y)\n",
    "\n",
    "    # calculate the residuals\n",
    "    residuals = y - P_z_x*β_hat\n",
    "    rX = P_z_x .* residuals\n",
    "    \n",
    "    # estimate the variance of the residuals\n",
    "    W = Z'*Z / size(Y)[1]\n",
    "    W2 = (Z .* residuals)' * (Z .* residuals) / n\n",
    "    Q = (X' * Z) / size(Y)[1]\n",
    "    \n",
    "    asymptotic_var = (inv(Q * inv(W) * Q')*(Q * inv(W) * W2 * inv(W) * Q')*inv(Q * inv(W) * Q') / length(Y))\n",
    "\n",
    "    # calculate the standard errors\n",
    "    se = sqrt.(asymptotic_var)   \n",
    "\n",
    "    return β_hat, se\n",
    "end;\n"
   ]
  },
  {
   "cell_type": "code",
   "execution_count": 6,
   "metadata": {},
   "outputs": [],
   "source": [
    "beta_hat, se = two_stage_least_squares(Y, X, Z);"
   ]
  },
  {
   "cell_type": "markdown",
   "metadata": {},
   "source": [
    "c) Compute $\\hat{\\beta}^{GMM}$, the two-step GMM estimator of $\\beta$, and its standard error."
   ]
  },
  {
   "cell_type": "code",
   "execution_count": 7,
   "metadata": {},
   "outputs": [],
   "source": [
    "function gmm_estimator(X, Y, Z, W)\n",
    "    n = size(X, 1)\n",
    "    p = size(X, 2)\n",
    "    q = size(Z, 2)\n",
    "    \n",
    "    # Compute the intermediate matrices\n",
    "    XZ_sum = zeros(p, q)\n",
    "    ZX_sum = zeros(q, p)\n",
    "    ZY_sum = zeros(q, 1)\n",
    "    \n",
    "    for i in 1:n\n",
    "        XZ_sum += X[i, :] * Z[i, :]'\n",
    "        ZX_sum += Z[i, :] * X[i, :]'\n",
    "        ZY_sum += Z[i, :] * Y[i]\n",
    "    end\n",
    "    \n",
    "    # Compute beta_hat using the formula directly\n",
    "    β_hat = inv(XZ_sum * inv(W) * ZX_sum) * XZ_sum * inv(W) * ZY_sum\n",
    "    \n",
    "    return β_hat\n",
    "end;"
   ]
  },
  {
   "cell_type": "code",
   "execution_count": 8,
   "metadata": {},
   "outputs": [],
   "source": [
    "function two_step_gmm(X, Y, Z)\n",
    "    # 1st step: define identity matrix as W\n",
    "    W = Matrix(I, size(Z)[2], size(Z)[2])\n",
    "    \n",
    "    # 2nd step: estimate beta_hat (inneficient estimator)\n",
    "    β_hat = gmm_estimator(X, Y, Z, W)\n",
    "\n",
    "    # 3rd step: estimate omega (weight matrix)\n",
    "    residuals = Y - X * β_hat\n",
    "    #W2 = sum(reshape(residuals .^ 2, 1, 1,size(Y)[1]) .* (reshape(Z, size(Z)[2], 1, size(Y)[1]) .* reshape(Z, 1, size(Z)[2], size(Y)[1])), dims=size(Z)[2]+1) / size(X)[1];\n",
    "    #W2 = reshape(W2, size(Z)[2], size(Z)[2])\n",
    "    W2 = (Z .* residuals)' * (Z .* residuals) / n    \n",
    "    \n",
    "    # 4th step: estimate beta_hat (efficient estimator)\n",
    "    β_hat2 = gmm_estimator(X, Y, Z, W2)\n",
    "\n",
    "    # 5th step: estimate omega (weight matrix)\n",
    "    # standard error\n",
    "    residuals2 = Y - X * β_hat2\n",
    "    W3 = (Z .* residuals2)' * (Z .* residuals2) / n\n",
    "    Q = (X' * Z) / size(Y)[1]\n",
    "    \n",
    "    asymptotic_error = sqrt(inv(Q * inv(W2) * Q')*(Q * inv(W2) * W3 * inv(W2) * Q')*inv(Q * inv(W2) * Q') / length(Y))\n",
    "    \n",
    "    return β_hat2[1], asymptotic_error\n",
    "end;"
   ]
  },
  {
   "cell_type": "code",
   "execution_count": 9,
   "metadata": {},
   "outputs": [],
   "source": [
    "beta_hat, se = two_step_gmm(X, Y, Z);"
   ]
  },
  {
   "cell_type": "markdown",
   "metadata": {},
   "source": [
    "d) Generate $10000$ independent samples of size $n$ from the model. For each sample, compute the following:\n",
    "* The absolute value of the bias of the 2SLS estimator: |$\\hat{\\beta}^{2SLS}-\\beta$|\n",
    "* The absolute value of the bias of the two-step efficient GMM estimator: |$\\hat{\\beta}^{GMM}-\\beta$|\n",
    "* The 95% confidence interval for $\\beta$ based on the 2SLS estimator and check if the true value $\\beta$ is inside.\n",
    "* The 95% confidence interval for $\\beta$ based on the GMM estimator and check if the true value $\\beta$ is inside."
   ]
  },
  {
   "cell_type": "code",
   "execution_count": 10,
   "metadata": {},
   "outputs": [],
   "source": [
    "function calculate_measures(X, Z, Y, true_β)\n",
    "    # Calculate 2SLS estimator and its standard error\n",
    "    β_hat_2sls, se_2sls = two_stage_least_squares(Y, X, Z)\n",
    "    \n",
    "    # Calculate efficient GMM estimator and its standard error\n",
    "    β_hat_gmm, se_gmm = two_step_gmm(X, Y, Z)\n",
    "    \n",
    "    # Calculate bias for 2SLS estimator\n",
    "    bias_2sls = abs(β_hat_2sls - true_β)\n",
    "    \n",
    "    # Calculate bias for efficient GMM estimator\n",
    "    bias_gmm = abs(β_hat_gmm - true_β)\n",
    "    \n",
    "    # Calculate 95% confidence interval for beta using 2SLS estimator\n",
    "    ci_2sls = [β_hat_2sls - 1.96 * se_2sls, β_hat_2sls + 1.96 * se_2sls]\n",
    "    \n",
    "    # Check if true value of beta is inside the confidence interval using 2SLS estimator\n",
    "    is_inside_2sls = Int((true_β >= ci_2sls[1]) && (true_β <= ci_2sls[2]))\n",
    "    \n",
    "    # Calculate 95% confidence interval for beta using efficient GMM estimator\n",
    "    ci_gmm = [β_hat_gmm - 1.96 * se_gmm, β_hat_gmm + 1.96 * se_gmm]\n",
    "    \n",
    "    # Check if true value of beta is inside the confidence interval using efficient GMM estimator\n",
    "    is_inside_gmm = Int((true_β >= ci_gmm[1]) && (true_β <= ci_gmm[2]))\n",
    "    \n",
    "    return bias_2sls, bias_gmm, is_inside_2sls, is_inside_gmm, se_2sls, se_gmm\n",
    "end;\n"
   ]
  },
  {
   "cell_type": "code",
   "execution_count": 11,
   "metadata": {},
   "outputs": [],
   "source": [
    "function generate_and_calculate_measures(K, n, true_β, π, γ, ρ, seed)\n",
    "    bias_2sls_list = []\n",
    "    bias_gmm_list = []\n",
    "    se_2sls_list = []\n",
    "    se_gmm_list = []\n",
    "    is_inside_2sls_list = []\n",
    "    is_inside_gmm_list = []\n",
    "    \n",
    "    for i in 1:K\n",
    "        #Y, X, Z = generate_data(n)\n",
    "        Y, X, Z = generate_observations(true_β, π, γ, ρ, n, seed + i)\n",
    "        bias_2sls, bias_gmm, is_inside_2sls, is_inside_gmm, se_2sls, se_gmm = calculate_measures(X, Z, Y, true_β)\n",
    "        \n",
    "        # bias\n",
    "        push!(bias_2sls_list, bias_2sls)\n",
    "        push!(bias_gmm_list, bias_gmm)\n",
    "\n",
    "        # is inside\n",
    "        push!(is_inside_2sls_list, is_inside_2sls)\n",
    "        push!(is_inside_gmm_list, is_inside_gmm)\n",
    "\n",
    "        # stantard error\n",
    "        push!(se_2sls_list, se_2sls)\n",
    "        push!(se_gmm_list, se_gmm)\n",
    "    end\n",
    "    \n",
    "    return bias_2sls_list, bias_gmm_list, is_inside_2sls_list, is_inside_gmm_list, se_2sls_list, se_gmm_list\n",
    "end;\n"
   ]
  },
  {
   "cell_type": "markdown",
   "metadata": {},
   "source": [
    "e) Report the following statistics based on the 2SLS and two-step efficient GMM estimators:\n",
    "\n",
    "* The average bias across the MC repetitions;\n",
    "* The average standard error across repetitions;\n",
    "* The simulated coverage probability for the 95% confidence interval."
   ]
  },
  {
   "cell_type": "code",
   "execution_count": 12,
   "metadata": {},
   "outputs": [],
   "source": [
    "bias_2sls_list, bias_gmm_list, is_inside_2sls_list, is_inside_gmm_list, se_2sls_list, se_gmm_list = generate_and_calculate_measures(10000, 500, β, π, γ, ρ, seed);"
   ]
  },
  {
   "cell_type": "code",
   "execution_count": 13,
   "metadata": {},
   "outputs": [
    {
     "name": "stdout",
     "output_type": "stream",
     "text": [
      "┌────────────────────────┬──────────┬────────────────────────┐\n",
      "│\u001b[1m              Statistic \u001b[0m│\u001b[1m     2SLS \u001b[0m│\u001b[1m Two-step efficient GMM \u001b[0m│\n",
      "├────────────────────────┼──────────┼────────────────────────┤\n",
      "│     Simulated coverage │    0.967 │                  0.949 │\n",
      "│           Average bias │ 0.460421 │               0.373939 │\n",
      "│ Average standard error │ 0.542162 │               0.440369 │\n",
      "└────────────────────────┴──────────┴────────────────────────┘\n"
     ]
    }
   ],
   "source": [
    "table_data = [\"Simulated coverage\" mean(is_inside_2sls_list) mean(is_inside_gmm_list); \n",
    "\"Average bias\" mean(bias_2sls_list) mean(bias_gmm_list);\n",
    "\"Average standard error\" mean(se_2sls_list) mean(se_gmm_list)             \n",
    "]\n",
    "\n",
    "header=[\"Statistic\" , \"2SLS\" ,\"Two-step efficient GMM\"]\n",
    "\n",
    "pretty_table(table_data;header)"
   ]
  },
  {
   "cell_type": "markdown",
   "metadata": {},
   "source": [
    "f) Compare the two methods (2SLS and two-step efficient GMM) in terms of the statistics listed in the previous part. Which is the preferred method?\n",
    "\n",
    "Answer: Considering the non-linear form of $U_i$, the two-step efficient GMM performs better than the 2SLS estimator, with a small bias and standard error, on average. Although the simulated coverage is slightly bigger for 2SLS estimator, the GMM is more efficient. Therefore, the GMM simulated coverage seems to provide more precision than the 2SLS one. "
   ]
  },
  {
   "cell_type": "markdown",
   "metadata": {},
   "source": [
    "g) Repeat (d)-(f) for $n=100$ and discuss the differences with the simulation results for $n=500$.\n",
    "\n",
    "Answer: Even with a worse performance when compared to the $n=500$ case, the GMM estimator is superior than the 2SLS estimator. The 2SLS simulated coverage shows how the standard deviation and bias are inflated. "
   ]
  },
  {
   "cell_type": "code",
   "execution_count": 14,
   "metadata": {},
   "outputs": [],
   "source": [
    "bias_2sls_list, bias_gmm_list, is_inside_2sls_list, is_inside_gmm_list, se_2sls_list, se_gmm_list = generate_and_calculate_measures(10000, 100, β, π, γ, ρ, seed);"
   ]
  },
  {
   "cell_type": "code",
   "execution_count": 15,
   "metadata": {},
   "outputs": [
    {
     "name": "stdout",
     "output_type": "stream",
     "text": [
      "┌────────────────────────┬──────────┬────────────────────────┐\n",
      "│\u001b[1m              Statistic \u001b[0m│\u001b[1m     2SLS \u001b[0m│\u001b[1m Two-step efficient GMM \u001b[0m│\n",
      "├────────────────────────┼──────────┼────────────────────────┤\n",
      "│     Simulated coverage │      1.0 │                 0.5325 │\n",
      "│           Average bias │ 0.856786 │               0.642517 │\n",
      "│ Average standard error │  2.11703 │               0.315806 │\n",
      "└────────────────────────┴──────────┴────────────────────────┘\n"
     ]
    }
   ],
   "source": [
    "table_data = [\"Simulated coverage\" mean(is_inside_2sls_list) mean(is_inside_gmm_list); \n",
    "\"Average bias\" mean(bias_2sls_list) mean(bias_gmm_list);\n",
    "\"Average standard error\" mean(se_2sls_list) mean(se_gmm_list)             \n",
    "]\n",
    "\n",
    "header=[\"Statistic\" , \"2SLS\" ,\"Two-step efficient GMM\"]\n",
    "\n",
    "pretty_table(table_data;header)"
   ]
  }
 ],
 "metadata": {
  "kernelspec": {
   "display_name": "Julia 1.9.3",
   "language": "julia",
   "name": "julia-1.9"
  },
  "language_info": {
   "file_extension": ".jl",
   "mimetype": "application/julia",
   "name": "julia",
   "version": "1.9.3"
  }
 },
 "nbformat": 4,
 "nbformat_minor": 2
}
